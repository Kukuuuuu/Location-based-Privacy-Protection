{
 "cells": [
  {
   "cell_type": "code",
   "execution_count": 1,
   "metadata": {},
   "outputs": [],
   "source": [
    "import warnings\n",
    "warnings.filterwarnings('ignore')\n",
    "import gzip\n",
    "import pandas as pd\n",
    "import geopandas as gpd\n",
    "import geopy\n",
    "from geopy.geocoders import Nominatim\n",
    "from geopy.extra.rate_limiter import RateLimiter\n",
    "import matplotlib.pyplot as plt\n",
    "import plotly_express as px\n",
    "import tqdm\n",
    "from tqdm._tqdm_notebook import tqdm_notebook\n",
    "import folium\n",
    "import shapely\n",
    "import os"
   ]
  },
  {
   "cell_type": "code",
   "execution_count": 2,
   "metadata": {},
   "outputs": [
    {
     "data": {
      "text/html": [
       "<div>\n",
       "<style scoped>\n",
       "    .dataframe tbody tr th:only-of-type {\n",
       "        vertical-align: middle;\n",
       "    }\n",
       "\n",
       "    .dataframe tbody tr th {\n",
       "        vertical-align: top;\n",
       "    }\n",
       "\n",
       "    .dataframe thead th {\n",
       "        text-align: right;\n",
       "    }\n",
       "</style>\n",
       "<table border=\"1\" class=\"dataframe\">\n",
       "  <thead>\n",
       "    <tr style=\"text-align: right;\">\n",
       "      <th></th>\n",
       "      <th>user</th>\n",
       "      <th>check_in_time</th>\n",
       "      <th>latitude</th>\n",
       "      <th>longitude</th>\n",
       "      <th>location_id</th>\n",
       "      <th>checkin_Date</th>\n",
       "      <th>checkin_time</th>\n",
       "      <th>checkin_year</th>\n",
       "      <th>checkin_month</th>\n",
       "      <th>checkin_day</th>\n",
       "      <th>checkin_hour</th>\n",
       "      <th>checkin_weekday</th>\n",
       "      <th>Address</th>\n",
       "      <th>Location</th>\n",
       "      <th>city_district</th>\n",
       "    </tr>\n",
       "  </thead>\n",
       "  <tbody>\n",
       "    <tr>\n",
       "      <th>0</th>\n",
       "      <td>72</td>\n",
       "      <td>2010-04-18T07:04:21Z</td>\n",
       "      <td>51.442041</td>\n",
       "      <td>-0.004450</td>\n",
       "      <td>808780</td>\n",
       "      <td>2010-04-18</td>\n",
       "      <td>07:04:21</td>\n",
       "      <td>2010</td>\n",
       "      <td>4</td>\n",
       "      <td>18</td>\n",
       "      <td>7</td>\n",
       "      <td>Sunday</td>\n",
       "      <td>Sandhurst Road, Catford South, London Borough ...</td>\n",
       "      <td>Sandhurst Road</td>\n",
       "      <td>London Borough of Lewisham</td>\n",
       "    </tr>\n",
       "    <tr>\n",
       "      <th>1</th>\n",
       "      <td>72</td>\n",
       "      <td>2010-04-16T16:33:11Z</td>\n",
       "      <td>51.375217</td>\n",
       "      <td>-0.103929</td>\n",
       "      <td>587260</td>\n",
       "      <td>2010-04-16</td>\n",
       "      <td>16:33:11</td>\n",
       "      <td>2010</td>\n",
       "      <td>4</td>\n",
       "      <td>16</td>\n",
       "      <td>16</td>\n",
       "      <td>Friday</td>\n",
       "      <td>Centrale, Tamworth Road, Broad Green, London B...</td>\n",
       "      <td>Centrale</td>\n",
       "      <td>London Borough of Croydon</td>\n",
       "    </tr>\n",
       "  </tbody>\n",
       "</table>\n",
       "</div>"
      ],
      "text/plain": [
       "   user         check_in_time   latitude  longitude  location_id checkin_Date  \\\n",
       "0    72  2010-04-18T07:04:21Z  51.442041  -0.004450       808780   2010-04-18   \n",
       "1    72  2010-04-16T16:33:11Z  51.375217  -0.103929       587260   2010-04-16   \n",
       "\n",
       "  checkin_time  checkin_year  checkin_month  checkin_day  checkin_hour  \\\n",
       "0     07:04:21          2010              4           18             7   \n",
       "1     16:33:11          2010              4           16            16   \n",
       "\n",
       "  checkin_weekday                                            Address  \\\n",
       "0          Sunday  Sandhurst Road, Catford South, London Borough ...   \n",
       "1          Friday  Centrale, Tamworth Road, Broad Green, London B...   \n",
       "\n",
       "         Location                city_district  \n",
       "0  Sandhurst Road   London Borough of Lewisham  \n",
       "1        Centrale    London Borough of Croydon  "
      ]
     },
     "execution_count": 2,
     "metadata": {},
     "output_type": "execute_result"
    }
   ],
   "source": [
    "#reimport from xls for Supervised\n",
    "import pandas as pd\n",
    "LondonCheckinsClss = pd.read_excel (r'LondonCheckinsBusiness.xlsx')\n",
    "LondonCheckinsClss.head(2)"
   ]
  },
  {
   "cell_type": "markdown",
   "metadata": {},
   "source": [
    "# <font color='red'>Supervised Learning ->  </font>\n",
    "#    <font color='red'>Logistic Regression and Differential Privacy Logistic Regression </font>"
   ]
  },
  {
   "cell_type": "markdown",
   "metadata": {},
   "source": [
    "So basically I'm going to try and provide data to end user app so they can predict what time customers will come and on what days"
   ]
  },
  {
   "cell_type": "markdown",
   "metadata": {},
   "source": [
    "## Dummy Encoding for logistic Classification"
   ]
  },
  {
   "cell_type": "code",
   "execution_count": 3,
   "metadata": {
    "scrolled": true
   },
   "outputs": [
    {
     "data": {
      "text/html": [
       "<div>\n",
       "<style scoped>\n",
       "    .dataframe tbody tr th:only-of-type {\n",
       "        vertical-align: middle;\n",
       "    }\n",
       "\n",
       "    .dataframe tbody tr th {\n",
       "        vertical-align: top;\n",
       "    }\n",
       "\n",
       "    .dataframe thead th {\n",
       "        text-align: right;\n",
       "    }\n",
       "</style>\n",
       "<table border=\"1\" class=\"dataframe\">\n",
       "  <thead>\n",
       "    <tr style=\"text-align: right;\">\n",
       "      <th></th>\n",
       "      <th>user</th>\n",
       "      <th>checkin_month</th>\n",
       "      <th>checkin_hour</th>\n",
       "      <th>checkin_weekday</th>\n",
       "      <th>Address</th>\n",
       "    </tr>\n",
       "  </thead>\n",
       "  <tbody>\n",
       "    <tr>\n",
       "      <th>0</th>\n",
       "      <td>72</td>\n",
       "      <td>4</td>\n",
       "      <td>7</td>\n",
       "      <td>Sunday</td>\n",
       "      <td>Sandhurst Road, Catford South, London Borough ...</td>\n",
       "    </tr>\n",
       "    <tr>\n",
       "      <th>1</th>\n",
       "      <td>72</td>\n",
       "      <td>4</td>\n",
       "      <td>16</td>\n",
       "      <td>Friday</td>\n",
       "      <td>Centrale, Tamworth Road, Broad Green, London B...</td>\n",
       "    </tr>\n",
       "    <tr>\n",
       "      <th>2</th>\n",
       "      <td>72</td>\n",
       "      <td>4</td>\n",
       "      <td>16</td>\n",
       "      <td>Friday</td>\n",
       "      <td>Centrale, Tamworth Road, Broad Green, London B...</td>\n",
       "    </tr>\n",
       "  </tbody>\n",
       "</table>\n",
       "</div>"
      ],
      "text/plain": [
       "   user  checkin_month  checkin_hour checkin_weekday  \\\n",
       "0    72              4             7          Sunday   \n",
       "1    72              4            16          Friday   \n",
       "2    72              4            16          Friday   \n",
       "\n",
       "                                             Address  \n",
       "0  Sandhurst Road, Catford South, London Borough ...  \n",
       "1  Centrale, Tamworth Road, Broad Green, London B...  \n",
       "2  Centrale, Tamworth Road, Broad Green, London B...  "
      ]
     },
     "execution_count": 3,
     "metadata": {},
     "output_type": "execute_result"
    }
   ],
   "source": [
    "# removing columns for Classification\n",
    "LondonCheckinsClss = LondonCheckinsClss.drop(['location_id','check_in_time','checkin_Date'\n",
    "                                              ,'checkin_time','checkin_year','checkin_day','latitude','longitude'\n",
    "                                              ,'city_district','Location'\n",
    "                                             # ,'checkin_month','checkin_weekday','checkin_hour','Address'\n",
    "                                             # ,'latitude','longitude','user'\n",
    "                                             ], axis=1)\n",
    "LondonCheckinsClss.head(3)"
   ]
  },
  {
   "cell_type": "code",
   "execution_count": 4,
   "metadata": {},
   "outputs": [
    {
     "data": {
      "text/html": [
       "<div>\n",
       "<style scoped>\n",
       "    .dataframe tbody tr th:only-of-type {\n",
       "        vertical-align: middle;\n",
       "    }\n",
       "\n",
       "    .dataframe tbody tr th {\n",
       "        vertical-align: top;\n",
       "    }\n",
       "\n",
       "    .dataframe thead th {\n",
       "        text-align: right;\n",
       "    }\n",
       "</style>\n",
       "<table border=\"1\" class=\"dataframe\">\n",
       "  <thead>\n",
       "    <tr style=\"text-align: right;\">\n",
       "      <th></th>\n",
       "      <th>user</th>\n",
       "      <th>month_2</th>\n",
       "      <th>month_3</th>\n",
       "      <th>month_4</th>\n",
       "      <th>month_5</th>\n",
       "      <th>month_6</th>\n",
       "      <th>month_7</th>\n",
       "      <th>month_8</th>\n",
       "      <th>month_9</th>\n",
       "      <th>month_10</th>\n",
       "      <th>...</th>\n",
       "      <th>Address_West Norwood Library, Norwood High Street, West Norwood, London Borough of Lambeth, London, Brixton, Greater London, England, SE27 9NS, United Kingdom</th>\n",
       "      <th>Address_West Norwood, Hannen Road, West Norwood, London Borough of Lambeth, London, Streatham, Greater London, England, SE27 0DT, United Kingdom</th>\n",
       "      <th>Address_Whitgift Avenue, Haling Park Road, Waddon, London Borough of Croydon, London, Croydon, Greater London, England, CR2 6NF, United Kingdom</th>\n",
       "      <th>Address_Whitgift Centre, Drummond Road, Broad Green, London Borough of Croydon, London, Croydon, Greater London, England, CR0 1TT, United Kingdom</th>\n",
       "      <th>Address_Widmore, London Borough of Bromley, London, Bromley, Greater London, England, BR2 9PF, United Kingdom</th>\n",
       "      <th>Address_Wing Yip, 544, Purley Way, Waddon, London Borough of Croydon, London, Croydon, Greater London, England, CR0 4RE, United Kingdom</th>\n",
       "      <th>Address_Woodham Road, South End, London Borough of Lewisham, London, Catford, Greater London, England, SE6 2SE, United Kingdom</th>\n",
       "      <th>Address_Zizzi, 11 - 13, Widmore Road, Plaistow, London Borough of Bromley, London, Bromley, Greater London, England, BR1 1RL, United Kingdom</th>\n",
       "      <th>Address_Zizzi, 57-59, South End, Waddon, London Borough of Croydon, London, Croydon, Greater London, England, CR0 1BF, United Kingdom</th>\n",
       "      <th>Address_glasseslab, Ringers Road, Shortlands, London Borough of Bromley, London, Bromley, Greater London, England, BR1 1EG, United Kingdom</th>\n",
       "    </tr>\n",
       "  </thead>\n",
       "  <tbody>\n",
       "    <tr>\n",
       "      <th>0</th>\n",
       "      <td>72</td>\n",
       "      <td>0</td>\n",
       "      <td>0</td>\n",
       "      <td>1</td>\n",
       "      <td>0</td>\n",
       "      <td>0</td>\n",
       "      <td>0</td>\n",
       "      <td>0</td>\n",
       "      <td>0</td>\n",
       "      <td>0</td>\n",
       "      <td>...</td>\n",
       "      <td>0</td>\n",
       "      <td>0</td>\n",
       "      <td>0</td>\n",
       "      <td>0</td>\n",
       "      <td>0</td>\n",
       "      <td>0</td>\n",
       "      <td>0</td>\n",
       "      <td>0</td>\n",
       "      <td>0</td>\n",
       "      <td>0</td>\n",
       "    </tr>\n",
       "    <tr>\n",
       "      <th>1</th>\n",
       "      <td>72</td>\n",
       "      <td>0</td>\n",
       "      <td>0</td>\n",
       "      <td>1</td>\n",
       "      <td>0</td>\n",
       "      <td>0</td>\n",
       "      <td>0</td>\n",
       "      <td>0</td>\n",
       "      <td>0</td>\n",
       "      <td>0</td>\n",
       "      <td>...</td>\n",
       "      <td>0</td>\n",
       "      <td>0</td>\n",
       "      <td>0</td>\n",
       "      <td>0</td>\n",
       "      <td>0</td>\n",
       "      <td>0</td>\n",
       "      <td>0</td>\n",
       "      <td>0</td>\n",
       "      <td>0</td>\n",
       "      <td>0</td>\n",
       "    </tr>\n",
       "    <tr>\n",
       "      <th>2</th>\n",
       "      <td>72</td>\n",
       "      <td>0</td>\n",
       "      <td>0</td>\n",
       "      <td>1</td>\n",
       "      <td>0</td>\n",
       "      <td>0</td>\n",
       "      <td>0</td>\n",
       "      <td>0</td>\n",
       "      <td>0</td>\n",
       "      <td>0</td>\n",
       "      <td>...</td>\n",
       "      <td>0</td>\n",
       "      <td>0</td>\n",
       "      <td>0</td>\n",
       "      <td>0</td>\n",
       "      <td>0</td>\n",
       "      <td>0</td>\n",
       "      <td>0</td>\n",
       "      <td>0</td>\n",
       "      <td>0</td>\n",
       "      <td>0</td>\n",
       "    </tr>\n",
       "    <tr>\n",
       "      <th>3</th>\n",
       "      <td>72</td>\n",
       "      <td>0</td>\n",
       "      <td>0</td>\n",
       "      <td>1</td>\n",
       "      <td>0</td>\n",
       "      <td>0</td>\n",
       "      <td>0</td>\n",
       "      <td>0</td>\n",
       "      <td>0</td>\n",
       "      <td>0</td>\n",
       "      <td>...</td>\n",
       "      <td>0</td>\n",
       "      <td>0</td>\n",
       "      <td>0</td>\n",
       "      <td>0</td>\n",
       "      <td>0</td>\n",
       "      <td>0</td>\n",
       "      <td>0</td>\n",
       "      <td>0</td>\n",
       "      <td>0</td>\n",
       "      <td>0</td>\n",
       "    </tr>\n",
       "    <tr>\n",
       "      <th>4</th>\n",
       "      <td>72</td>\n",
       "      <td>0</td>\n",
       "      <td>0</td>\n",
       "      <td>1</td>\n",
       "      <td>0</td>\n",
       "      <td>0</td>\n",
       "      <td>0</td>\n",
       "      <td>0</td>\n",
       "      <td>0</td>\n",
       "      <td>0</td>\n",
       "      <td>...</td>\n",
       "      <td>0</td>\n",
       "      <td>0</td>\n",
       "      <td>0</td>\n",
       "      <td>0</td>\n",
       "      <td>0</td>\n",
       "      <td>0</td>\n",
       "      <td>0</td>\n",
       "      <td>0</td>\n",
       "      <td>0</td>\n",
       "      <td>0</td>\n",
       "    </tr>\n",
       "  </tbody>\n",
       "</table>\n",
       "<p>5 rows × 376 columns</p>\n",
       "</div>"
      ],
      "text/plain": [
       "   user  month_2  month_3  month_4  month_5  month_6  month_7  month_8  \\\n",
       "0    72        0        0        1        0        0        0        0   \n",
       "1    72        0        0        1        0        0        0        0   \n",
       "2    72        0        0        1        0        0        0        0   \n",
       "3    72        0        0        1        0        0        0        0   \n",
       "4    72        0        0        1        0        0        0        0   \n",
       "\n",
       "   month_9  month_10  ...  \\\n",
       "0        0         0  ...   \n",
       "1        0         0  ...   \n",
       "2        0         0  ...   \n",
       "3        0         0  ...   \n",
       "4        0         0  ...   \n",
       "\n",
       "   Address_West Norwood Library, Norwood High Street, West Norwood, London Borough of Lambeth, London, Brixton, Greater London, England, SE27 9NS, United Kingdom  \\\n",
       "0                                                  0                                                                                                                \n",
       "1                                                  0                                                                                                                \n",
       "2                                                  0                                                                                                                \n",
       "3                                                  0                                                                                                                \n",
       "4                                                  0                                                                                                                \n",
       "\n",
       "   Address_West Norwood, Hannen Road, West Norwood, London Borough of Lambeth, London, Streatham, Greater London, England, SE27 0DT, United Kingdom  \\\n",
       "0                                                  0                                                                                                  \n",
       "1                                                  0                                                                                                  \n",
       "2                                                  0                                                                                                  \n",
       "3                                                  0                                                                                                  \n",
       "4                                                  0                                                                                                  \n",
       "\n",
       "   Address_Whitgift Avenue, Haling Park Road, Waddon, London Borough of Croydon, London, Croydon, Greater London, England, CR2 6NF, United Kingdom  \\\n",
       "0                                                  0                                                                                                 \n",
       "1                                                  0                                                                                                 \n",
       "2                                                  0                                                                                                 \n",
       "3                                                  0                                                                                                 \n",
       "4                                                  0                                                                                                 \n",
       "\n",
       "   Address_Whitgift Centre, Drummond Road, Broad Green, London Borough of Croydon, London, Croydon, Greater London, England, CR0 1TT, United Kingdom  \\\n",
       "0                                                  0                                                                                                   \n",
       "1                                                  0                                                                                                   \n",
       "2                                                  0                                                                                                   \n",
       "3                                                  0                                                                                                   \n",
       "4                                                  0                                                                                                   \n",
       "\n",
       "   Address_Widmore, London Borough of Bromley, London, Bromley, Greater London, England, BR2 9PF, United Kingdom  \\\n",
       "0                                                  0                                                               \n",
       "1                                                  0                                                               \n",
       "2                                                  0                                                               \n",
       "3                                                  0                                                               \n",
       "4                                                  0                                                               \n",
       "\n",
       "   Address_Wing Yip, 544, Purley Way, Waddon, London Borough of Croydon, London, Croydon, Greater London, England, CR0 4RE, United Kingdom  \\\n",
       "0                                                  0                                                                                         \n",
       "1                                                  0                                                                                         \n",
       "2                                                  0                                                                                         \n",
       "3                                                  0                                                                                         \n",
       "4                                                  0                                                                                         \n",
       "\n",
       "   Address_Woodham Road, South End, London Borough of Lewisham, London, Catford, Greater London, England, SE6 2SE, United Kingdom  \\\n",
       "0                                                  0                                                                                \n",
       "1                                                  0                                                                                \n",
       "2                                                  0                                                                                \n",
       "3                                                  0                                                                                \n",
       "4                                                  0                                                                                \n",
       "\n",
       "   Address_Zizzi, 11 - 13, Widmore Road, Plaistow, London Borough of Bromley, London, Bromley, Greater London, England, BR1 1RL, United Kingdom  \\\n",
       "0                                                  0                                                                                              \n",
       "1                                                  0                                                                                              \n",
       "2                                                  0                                                                                              \n",
       "3                                                  0                                                                                              \n",
       "4                                                  0                                                                                              \n",
       "\n",
       "   Address_Zizzi, 57-59, South End, Waddon, London Borough of Croydon, London, Croydon, Greater London, England, CR0 1BF, United Kingdom  \\\n",
       "0                                                  0                                                                                       \n",
       "1                                                  0                                                                                       \n",
       "2                                                  0                                                                                       \n",
       "3                                                  0                                                                                       \n",
       "4                                                  0                                                                                       \n",
       "\n",
       "   Address_glasseslab, Ringers Road, Shortlands, London Borough of Bromley, London, Bromley, Greater London, England, BR1 1EG, United Kingdom  \n",
       "0                                                  0                                                                                           \n",
       "1                                                  0                                                                                           \n",
       "2                                                  0                                                                                           \n",
       "3                                                  0                                                                                           \n",
       "4                                                  0                                                                                           \n",
       "\n",
       "[5 rows x 376 columns]"
      ]
     },
     "execution_count": 4,
     "metadata": {},
     "output_type": "execute_result"
    }
   ],
   "source": [
    "#one hot encoding for month and weekday \n",
    "LondonCheckinsClss = pd.get_dummies(LondonCheckinsClss, columns=['checkin_month'], drop_first=True, prefix='month')\n",
    "LondonCheckinsClss = pd.get_dummies(LondonCheckinsClss, columns=['checkin_weekday'], drop_first=True, prefix='wkday')\n",
    "LondonCheckinsClss = pd.get_dummies(LondonCheckinsClss, columns=['checkin_hour'], drop_first=True, prefix='hour')\n",
    "LondonCheckinsClss = pd.get_dummies(LondonCheckinsClss, columns=['Address'], drop_first=True, prefix='Address')\n",
    "LondonCheckinsClss.head()"
   ]
  },
  {
   "cell_type": "code",
   "execution_count": 5,
   "metadata": {},
   "outputs": [
    {
     "data": {
      "text/plain": [
       "(1513, 376)"
      ]
     },
     "execution_count": 5,
     "metadata": {},
     "output_type": "execute_result"
    }
   ],
   "source": [
    "LondonCheckinsClss.shape"
   ]
  },
  {
   "cell_type": "code",
   "execution_count": 6,
   "metadata": {},
   "outputs": [],
   "source": [
    "import numpy as np\n",
    "from sklearn.model_selection import train_test_split\n",
    "X_train, X_test, y_train, y_test = train_test_split(\n",
    "    LondonCheckinsClss.drop('user', axis=1), LondonCheckinsClss['user'],\n",
    "      test_size=0.33, random_state=2021)"
   ]
  },
  {
   "cell_type": "code",
   "execution_count": 7,
   "metadata": {},
   "outputs": [
    {
     "data": {
      "text/plain": [
       "520    17052\n",
       "442     7675\n",
       "544    19470\n",
       "118     4701\n",
       "415     7675\n",
       "Name: user, dtype: int64"
      ]
     },
     "execution_count": 7,
     "metadata": {},
     "output_type": "execute_result"
    }
   ],
   "source": [
    "y_train.head()"
   ]
  },
  {
   "cell_type": "markdown",
   "metadata": {},
   "source": [
    "## Logistic Regression"
   ]
  },
  {
   "cell_type": "code",
   "execution_count": 8,
   "metadata": {},
   "outputs": [],
   "source": [
    "#Citation :https://github.com/IBM/differential-privacy-library/blob/main/notebooks/logistic_regression.ipynb\n",
    "\n",
    "from sklearn.linear_model import LogisticRegression\n",
    "import diffprivlib.models as dp\n",
    "from sklearn import model_selection\n",
    "import sklearn.metrics as metrics\n",
    "from sklearn.metrics import accuracy_score, f1_score, precision_score, recall_score, classification_report, confusion_matrix, zero_one_loss\n",
    "import numpy as np\n",
    "from diffprivlib import tools as dptools"
   ]
  },
  {
   "cell_type": "markdown",
   "metadata": {},
   "source": [
    "## Differential Privacy - Logistic Regression"
   ]
  },
  {
   "cell_type": "code",
   "execution_count": 9,
   "metadata": {},
   "outputs": [
    {
     "name": "stdout",
     "output_type": "stream",
     "text": [
      "Training set score: 75.62%\n",
      "Training Error: 24.38%\n",
      "Test set score: 52.60%\n",
      "Error: 47.40%\n"
     ]
    }
   ],
   "source": [
    "clss = LogisticRegression(solver=\"lbfgs\")\n",
    "clss.fit(X_train, y_train)\n",
    "y_pred_clss = clss.predict(X_test)\n",
    "y_pred_train_clss = clss.predict(X_train)\n",
    "clss_error = zero_one_loss(y_test, y_pred_clss)\n",
    "clss_error_train = zero_one_loss(y_train, y_pred_train_clss)\n",
    "\n",
    "print(\"Training set score: %.2f%%\" % (clss.score(X_train, y_train) * 100))\n",
    "print(\"Training Error: %.2f%%\" % ((clss_error_train) * 100))\n",
    "print(\"Test set score: %.2f%%\" % (clss.score(X_test, y_test) * 100))\n",
    "print(\"Error: %.2f%%\" % ((clss_error) * 100))"
   ]
  },
  {
   "cell_type": "code",
   "execution_count": 10,
   "metadata": {},
   "outputs": [
    {
     "data": {
      "image/png": "[encoded data removed]",
      "text/plain": [
       "<Figure size 432x288 with 1 Axes>"
      ]
     },
     "metadata": {
      "needs_background": "light"
     },
     "output_type": "display_data"
    }
   ],
   "source": [
    "hist, bins = np.histogram( LondonCheckinsClss['user'])\n",
    "hist = hist / hist.sum()\n",
    "\n",
    "ax=plt.subplot()\n",
    "\n",
    "plt.bar(bins[:-1], hist, width=(bins[1]-bins[0]) * 0.9)\n",
    "ax.set_xlabel(\"User Label\")\n",
    "ax.set_ylabel(\"Frequency\")\n",
    "ax.set_title(\"NonPrivate Logistic Distribution of User Labels\")\n",
    "plt.show()"
   ]
  },
  {
   "cell_type": "code",
   "execution_count": 11,
   "metadata": {},
   "outputs": [
    {
     "name": "stdout",
     "output_type": "stream",
     "text": [
      "Training set score: 73.74%\n",
      "Training Error: 26.26%\n",
      "Test set score: 52.20%\n",
      "Error: 47.80%\n"
     ]
    }
   ],
   "source": [
    "clssInf = dp.LogisticRegression(epsilon=float(\"inf\"), data_norm=1e5)\n",
    "clssInf.fit(X_train, y_train)\n",
    "\n",
    "y_pred_clssInf = clssInf.predict(X_test)\n",
    "y_pred_train_clssInf = clssInf.predict(X_train)\n",
    "clssInf_error = zero_one_loss(y_test, y_pred_clssInf)\n",
    "clssInf_error_train = zero_one_loss(y_train, y_pred_train_clssInf)\n",
    "\n",
    "print(\"Training set score: %.2f%%\" % (clssInf.score(X_train, y_train) * 100))\n",
    "print(\"Training Error: %.2f%%\" % ((clssInf_error_train) * 100))\n",
    "print(\"Test set score: %.2f%%\" % (clssInf.score(X_test, y_test) * 100))\n",
    "print(\"Error: %.2f%%\" % ((clssInf_error) * 100))"
   ]
  },
  {
   "cell_type": "code",
   "execution_count": 12,
   "metadata": {},
   "outputs": [
    {
     "name": "stdout",
     "output_type": "stream",
     "text": [
      "Training set score: 0.69%\n",
      "Training Error: 99.31%\n",
      "Test set score: 0.20%\n",
      "Error: 99.80%\n"
     ]
    }
   ],
   "source": [
    "DP_LRClss = dp.LogisticRegression(epsilon=float(0.1), data_norm=1e5)\n",
    "DP_LRClss.fit(X_train, y_train)\n",
    "\n",
    "y_pred_DP_LRClss = DP_LRClss.predict(X_test)\n",
    "y_pred_train_DP_LRClss = DP_LRClss.predict(X_train)\n",
    "DP_LRClss_error = zero_one_loss(y_test, y_pred_DP_LRClss)\n",
    "DP_LRClss_error_train = zero_one_loss(y_train, y_pred_train_DP_LRClss)\n",
    "\n",
    "print(\"Training set score: %.2f%%\" % (DP_LRClss.score(X_train, y_train) * 100))\n",
    "print(\"Training Error: %.2f%%\" % ((DP_LRClss_error_train) * 100))\n",
    "print(\"Test set score: %.2f%%\" % (DP_LRClss.score(X_test, y_test) * 100))\n",
    "print(\"Error: %.2f%%\" % ((DP_LRClss_error) * 100))"
   ]
  },
  {
   "cell_type": "code",
   "execution_count": 13,
   "metadata": {},
   "outputs": [
    {
     "data": {
      "image/png": "[encoded data removed]",
      "text/plain": [
       "<Figure size 432x288 with 1 Axes>"
      ]
     },
     "metadata": {
      "needs_background": "light"
     },
     "output_type": "display_data"
    }
   ],
   "source": [
    "import warnings\n",
    "warnings.filterwarnings('ignore')\n",
    "dp_hist, dp_bins = dptools.histogram(LondonCheckinsClss['user'],epsilon=0.8)\n",
    "dp_hist = dp_hist / dp_hist.sum()\n",
    "\n",
    "\n",
    "ax=plt.subplot()\n",
    "\n",
    "plt.bar(dp_bins[:-1], dp_hist, width=(dp_bins[1] - dp_bins[0]) * 0.9)\n",
    "ax.set_xlabel(\"User Label\")\n",
    "ax.set_ylabel(\"Frequency\")\n",
    "ax.set_title(\"Differentially Private Distribution of User Labels\")\n",
    "plt.show()"
   ]
  },
  {
   "cell_type": "code",
   "execution_count": 14,
   "metadata": {},
   "outputs": [
    {
     "name": "stdout",
     "output_type": "stream",
     "text": [
      "Total histogram error: 0.000000\n"
     ]
    }
   ],
   "source": [
    "dp_hist, dp_bins = dptools.histogram(LondonCheckinsClss['user'], float(\"inf\"))\n",
    "dp_hist = dp_hist / dp_hist.sum()\n",
    "\n",
    "print(\"Total histogram error: %f\" % np.abs(hist - dp_hist).sum())"
   ]
  },
  {
   "cell_type": "code",
   "execution_count": 15,
   "metadata": {},
   "outputs": [],
   "source": [
    "import warnings\n",
    "warnings.filterwarnings('ignore')\n",
    "accuracy = []\n",
    "epsilons = np.logspace(-3, 1, 500)\n",
    "\n",
    "for eps in epsilons:\n",
    "    dp_clf = dp.LogisticRegression(epsilon=eps)\n",
    "    dp_clf.fit(X_train, y_train)\n",
    "    accuracy.append(dp_clf.score(X_test, y_test))"
   ]
  },
  {
   "cell_type": "code",
   "execution_count": 16,
   "metadata": {},
   "outputs": [],
   "source": [
    "import pickle\n",
    "baseline = clss.score(X_train, y_train)\n",
    "pickle.dump((epsilons, baseline, accuracy), open(\"lr_accuracy_500.p\", \"wb\" ) )"
   ]
  },
  {
   "cell_type": "code",
   "execution_count": 17,
   "metadata": {},
   "outputs": [
    {
     "data": {
      "image/png": "[encoded data removed]",
      "text/plain": [
       "<Figure size 1440x1152 with 1 Axes>"
      ]
     },
     "metadata": {
      "needs_background": "light"
     },
     "output_type": "display_data"
    }
   ],
   "source": [
    "import matplotlib.pyplot as plt\n",
    "import pickle\n",
    "plt.figure(figsize=(20,16))\n",
    "epsilons, baseline, accuracy = pickle.load(open(\"lr_accuracy_500.p\", \"rb\"))\n",
    "\n",
    "plt.semilogx(epsilons, accuracy, label=\"Differentially private\")\n",
    "plt.plot(epsilons, np.ones_like(epsilons) * baseline, dashes=[2,2], label=\"Non-private\")\n",
    "plt.title(\"Differentially private logistic regression accuracy\")\n",
    "plt.xlabel(\"epsilon\")\n",
    "plt.ylabel(\"Accuracy\")\n",
    "plt.ylim(0, 1)\n",
    "plt.xlim(epsilons[0], epsilons[-1])\n",
    "plt.legend(loc=7)\n",
    "plt.show()"
   ]
  },
  {
   "cell_type": "markdown",
   "metadata": {},
   "source": [
    "https://github.com/IBM/differential-privacy-library/blob/main/notebooks/logistic_regression.ipynb"
   ]
  },
  {
   "cell_type": "code",
   "execution_count": null,
   "metadata": {},
   "outputs": [],
   "source": []
  }
 ],
 "metadata": {
  "kernelspec": {
   "display_name": "Python 3",
   "language": "python",
   "name": "python3"
  },
  "language_info": {
   "codemirror_mode": {
    "name": "ipython",
    "version": 3
   },
   "file_extension": ".py",
   "mimetype": "text/x-python",
   "name": "python",
   "nbconvert_exporter": "python",
   "pygments_lexer": "ipython3",
   "version": "3.7.4"
  }
 },
 "nbformat": 4,
 "nbformat_minor": 2
}
